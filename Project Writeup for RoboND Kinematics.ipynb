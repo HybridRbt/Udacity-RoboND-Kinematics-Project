{
 "cells": [
  {
   "cell_type": "markdown",
   "metadata": {},
   "source": [
    "# Project: Kinematics Pick & Place"
   ]
  },
  {
   "cell_type": "markdown",
   "metadata": {},
   "source": [
    "## Steps to complete the project:\n",
    "\n",
    "1. Set up your ROS Workspace.\n",
    "2. Download or clone the project repository into the src directory of your ROS Workspace.\n",
    "3. Experiment with the forward_kinematics environment and get familiar with the robot.\n",
    "4. Launch in demo mode.\n",
    "5. Perform Kinematic Analysis for the robot following the project rubric.\n",
    "6. Fill in the IK_server.py with your Inverse Kinematics code.\n",
    "\n",
    "Now I will explain each point in detail according to the rubric points."
   ]
  },
  {
   "cell_type": "markdown",
   "metadata": {},
   "source": [
    "## Rubric Points"
   ]
  },
  {
   "cell_type": "markdown",
   "metadata": {},
   "source": [
    "### Writeup / README"
   ]
  },
  {
   "cell_type": "markdown",
   "metadata": {},
   "source": [
    "1. Provide a Writeup / README that includes all the rubric points and how you addressed each one. You can submit your writeup as markdown or pdf.\n",
    "\n",
    "    * I decided to use Jupyter book as the format of my writeup. \n",
    "    * I am using VMWare on a macbook pro, with my virtual machine image updated from V2.0.1 to V2.1.0. I have encountered several error when I was trying run the demo and I was told by the experts that this was due to the old version of my image file. \n",
    "    * I have setup my ROS workspace following the instruction from the lesson.\n",
    "    * I have cloned the project into the correspoding directory. After I have finished the project I created a repository in my personal Github account and pushed all my work, along with this notebook, to that repository."
   ]
  },
  {
   "cell_type": "markdown",
   "metadata": {},
   "source": [
    "### Kinematic Analysis"
   ]
  },
  {
   "cell_type": "markdown",
   "metadata": {},
   "source": [
    "1. Run the forward_kinematics demo and evaluate the kr210.urdf.xacro file to perform kinematic analysis of Kuka KR210 robot and derive its DH parameters.\n",
    "\n",
    "    Here are the steps I took to assign the reference frames for the Kuka arm, shown in a series of hand drawings."
   ]
  },
  {
   "cell_type": "markdown",
   "metadata": {},
   "source": [
    "![000](imgs/000.jpg)"
   ]
  },
  {
   "cell_type": "markdown",
   "metadata": {},
   "source": [
    "![001](imgs/001.jpg)"
   ]
  },
  {
   "cell_type": "markdown",
   "metadata": {},
   "source": [
    "![002](imgs/002.jpg)"
   ]
  },
  {
   "cell_type": "markdown",
   "metadata": {},
   "source": [
    "![003](imgs/003.jpg)"
   ]
  },
  {
   "cell_type": "markdown",
   "metadata": {},
   "source": [
    "![004](imgs/004.jpg)"
   ]
  },
  {
   "cell_type": "markdown",
   "metadata": {},
   "source": [
    "![005](imgs/005.jpg)"
   ]
  },
  {
   "cell_type": "markdown",
   "metadata": {},
   "source": [
    "![006](imgs/006.jpg)"
   ]
  },
  {
   "cell_type": "markdown",
   "metadata": {},
   "source": [
    "![007](imgs/007.jpg)"
   ]
  },
  {
   "cell_type": "markdown",
   "metadata": {},
   "source": [
    "![008](imgs/008.jpg)"
   ]
  },
  {
   "cell_type": "markdown",
   "metadata": {},
   "source": [
    "To derive the DH parameters, we need to refer to the URDF file. The relevant section is shown below. As marked by the drawings above, the a's and d's are indicated by the origin offsets of the joints. "
   ]
  },
  {
   "cell_type": "raw",
   "metadata": {},
   "source": [
    "  <!-- joints -->\n",
    "  <joint name=\"fixed_base_joint\" type=\"fixed\">\n",
    "    <parent link=\"base_footprint\"/>\n",
    "    <child link=\"base_link\"/>\n",
    "    <origin xyz=\"0 0 0\" rpy=\"0 0 0\"/>\n",
    "  </joint>\n",
    "  <joint name=\"joint_1\" type=\"revolute\">\n",
    "    <origin xyz=\"0 0 0.33\" rpy=\"0 0 0\"/>\n",
    "    <parent link=\"base_link\"/>\n",
    "    <child link=\"link_1\"/>\n",
    "    <axis xyz=\"0 0 1\"/>\n",
    "    <limit lower=\"${-185*deg}\" upper=\"${185*deg}\" effort=\"300\" velocity=\"${123*deg}\"/>\n",
    "  </joint>\n",
    "  <joint name=\"joint_2\" type=\"revolute\">\n",
    "    <origin xyz=\"0.35 0 0.42\" rpy=\"0 0 0\"/>\n",
    "    <parent link=\"link_1\"/>\n",
    "    <child link=\"link_2\"/>\n",
    "    <axis xyz=\"0 1 0\"/>\n",
    "    <limit lower=\"${-45*deg}\" upper=\"${85*deg}\" effort=\"300\" velocity=\"${115*deg}\"/>\n",
    "  </joint>\n",
    "  <joint name=\"joint_3\" type=\"revolute\">\n",
    "    <origin xyz=\"0 0 1.25\" rpy=\"0 0 0\"/>\n",
    "    <parent link=\"link_2\"/>\n",
    "    <child link=\"link_3\"/>\n",
    "    <axis xyz=\"0 1 0\"/>\n",
    "    <limit lower=\"${-210*deg}\" upper=\"${(155-90)*deg}\" effort=\"300\" velocity=\"${112*deg}\"/>\n",
    "  </joint>\n",
    "  <joint name=\"joint_4\" type=\"revolute\">\n",
    "    <origin xyz=\"0.96 0 -0.054\" rpy=\"0 0 0\"/>\n",
    "    <parent link=\"link_3\"/>\n",
    "    <child link=\"link_4\"/>\n",
    "    <axis xyz=\"1 0 0\"/>\n",
    "    <limit lower=\"${-350*deg}\" upper=\"${350*deg}\" effort=\"300\" velocity=\"${179*deg}\"/>\n",
    "  </joint>\n",
    "  <joint name=\"joint_5\" type=\"revolute\">\n",
    "    <origin xyz=\"0.54 0 0\" rpy=\"0 0 0\"/>\n",
    "    <parent link=\"link_4\"/>\n",
    "    <child link=\"link_5\"/>\n",
    "    <axis xyz=\"0 1 0\"/>\n",
    "    <limit lower=\"${-125*deg}\" upper=\"${125*deg}\" effort=\"300\" velocity=\"${172*deg}\"/>\n",
    "  </joint>\n",
    "  <joint name=\"joint_6\" type=\"revolute\">\n",
    "    <origin xyz=\"0.193 0 0\" rpy=\"0 0 0\"/>\n",
    "    <parent link=\"link_5\"/>\n",
    "    <child link=\"link_6\"/>\n",
    "    <axis xyz=\"1 0 0\"/>\n",
    "    <limit lower=\"${-350*deg}\" upper=\"${350*deg}\" effort=\"300\" velocity=\"${219*deg}\"/>\n",
    "  </joint>"
   ]
  },
  {
   "cell_type": "markdown",
   "metadata": {},
   "source": [
    "Extract the offsets and mark them on the last drawing we can get the following:"
   ]
  },
  {
   "cell_type": "markdown",
   "metadata": {},
   "source": [
    "![009](imgs/009.jpg)"
   ]
  },
  {
   "cell_type": "markdown",
   "metadata": {},
   "source": [
    "Fill them into the DH table:"
   ]
  },
  {
   "cell_type": "markdown",
   "metadata": {},
   "source": [
    "![010](imgs/010.jpg)"
   ]
  },
  {
   "cell_type": "markdown",
   "metadata": {},
   "source": [
    "Formalize it we can get the following table:"
   ]
  },
  {
   "cell_type": "markdown",
   "metadata": {},
   "source": [
    "Links | alpha(i-1) | a(i-1) | d(i) | theta(i)\n",
    "--- | --- | --- | --- | ---\n",
    "0->1 | 0 | 0 | 0.75 | q1\n",
    "1->2 | -pi/2 | 0.35 | 0 | -pi/2 + q2\n",
    "2->3 | 0 | 1.25 | 0 | 0\n",
    "3->4 | -pi/2 | -0.054 | 1.50 | 0\n",
    "4->5 | pi/2 | 0 | 0 | 0\n",
    "5->6 | -pi/2 | 0 | 0 | 0\n",
    "6->EE | 0 | 0 | 0.303 | 0"
   ]
  },
  {
   "cell_type": "markdown",
   "metadata": {},
   "source": [
    "2. Using the DH parameter table you derived earlier, create individual transformation matrices about each joint. In addition, also generate a generalized homogeneous transform between base_link and gripper_link using only end-effector(gripper) pose."
   ]
  },
  {
   "cell_type": "markdown",
   "metadata": {},
   "source": [
    "For the purpos of clearier code, I have defined a helper function to generate homogeneous transform from the DH parameters."
   ]
  },
  {
   "cell_type": "code",
   "execution_count": 2,
   "metadata": {
    "collapsed": true
   },
   "outputs": [],
   "source": [
    "# a helper function to generate homogeneous transforms from DH parameters\n",
    "def GetHTFromDH(q, d, a, alpha):\n",
    "    # q, d, a, alpha are DH parameters\n",
    "    T = Matrix([\n",
    "                [           cos(q),           -sin(q),           0,             a],\n",
    "                [sin(q)*cos(alpha), cos(q)*cos(alpha), -sin(alpha), -sin(alpha)*d],\n",
    "                [sin(q)*sin(alpha), cos(q)*sin(alpha),  cos(alpha),  cos(alpha)*d],\n",
    "                [                0,                 0,           0,             1]\n",
    "               ])\n",
    "    return T"
   ]
  },
  {
   "cell_type": "markdown",
   "metadata": {},
   "source": [
    "Then it's just a matter of list all the transforms and then sub in the DH parameters."
   ]
  },
  {
   "cell_type": "code",
   "execution_count": null,
   "metadata": {
    "collapsed": true
   },
   "outputs": [],
   "source": [
    "# Define Modified DH Transformation matrix\n",
    "T0_1 = GetHTFromDH(q1, d1, a0, alpha0)\n",
    "T0_1 = T0_1.subs(s)\n",
    "\n",
    "T1_2 = GetHTFromDH(q2, d2, a1, alpha1)\n",
    "T1_2 = T1_2.subs(s)\n",
    "\n",
    "T2_3 = GetHTFromDH(q3, d3, a2, alpha2)\n",
    "T2_3 = T2_3.subs(s)\n",
    "\n",
    "T3_4 = GetHTFromDH(q4, d4, a3, alpha3)\n",
    "T3_4 = T3_4.subs(s)\n",
    "\n",
    "T4_5 = GetHTFromDH(q5, d5, a4, alpha4)\n",
    "T4_5 = T4_5.subs(s)\n",
    "\n",
    "T5_6 = GetHTFromDH(q6, d6, a5, alpha5)\n",
    "T5_6 = T5_6.subs(s)\n",
    "\n",
    "T6_G = GetHTFromDH(q7, d7, a6, alpha6)\n",
    "T6_G = T6_G.subs(s)"
   ]
  },
  {
   "cell_type": "markdown",
   "metadata": {},
   "source": [
    "For the generalized homogeneous transform, we can get from the position and orientation of the end effector."
   ]
  },
  {
   "cell_type": "code",
   "execution_count": null,
   "metadata": {
    "collapsed": true
   },
   "outputs": [],
   "source": [
    "# Extract end-effector position and orientation from request\n",
    "# px,py,pz = end-effector position\n",
    "# roll, pitch, yaw = end-effector orientation\n",
    "px = req.poses[x].position.x\n",
    "py = req.poses[x].position.y\n",
    "pz = req.poses[x].position.z\n",
    "\n",
    "(roll, pitch, yaw) = tf.transformations.euler_from_quaternion(\n",
    "    [req.poses[x].orientation.x, req.poses[x].orientation.y,\n",
    "        req.poses[x].orientation.z, req.poses[x].orientation.w])\n",
    "\n",
    "# Construct rot for ee symbolically\n",
    "r, p, y = symbols('r p y')\n",
    "\n",
    "R_ee_x = Matrix([\n",
    "              [1,         0,          0],\n",
    "              [0, cos(r), -sin(r)],\n",
    "              [0, sin(r),  cos(r)]\n",
    "              ])\n",
    "R_ee_y = Matrix([\n",
    "              [cos(p),  0, sin(p)],\n",
    "              [0,           1,          0],\n",
    "              [-sin(p), 0, cos(p)]\n",
    "              ])\n",
    "R_ee_z = Matrix([\n",
    "             [cos(y), -sin(y), 0],\n",
    "             [sin(y),  cos(y), 0],\n",
    "             [       0,         0, 1]\n",
    "             ])\n",
    "R_ee = R_ee_z * R_ee_y * R_ee_x"
   ]
  },
  {
   "cell_type": "markdown",
   "metadata": {},
   "source": [
    "We need also consider the discrepancy between DH parameters and Gazebo."
   ]
  },
  {
   "cell_type": "code",
   "execution_count": null,
   "metadata": {
    "collapsed": true
   },
   "outputs": [],
   "source": [
    "# Compensate for rotation discrepancy between DH parameters and Gazebo\n",
    "# get transform for z-axis\n",
    "R_z = Matrix([\n",
    "            [cos(pi), -sin(pi), 0],\n",
    "            [sin(pi),  cos(pi), 0],\n",
    "            [      0,        0, 1]\n",
    "            ])\n",
    "# get transform for y-axis\n",
    "R_y = Matrix([\n",
    "            [ cos(-pi/2), 0, sin(-pi/2)],\n",
    "            [          0, 1,          0],\n",
    "            [-sin(-pi/2), 0, cos(-pi/2)]\n",
    "            ])\n",
    "# get the compensate transform\n",
    "#R_comp = simplify(R_z * R_y)\n",
    "R_comp = R_z * R_y"
   ]
  },
  {
   "cell_type": "markdown",
   "metadata": {},
   "source": [
    "    Combine them we will get the rotation matrix for the end effector."
   ]
  },
  {
   "cell_type": "code",
   "execution_count": null,
   "metadata": {
    "collapsed": true
   },
   "outputs": [],
   "source": [
    "R_ee = R_ee * R_comp"
   ]
  },
  {
   "cell_type": "markdown",
   "metadata": {},
   "source": [
    "What worth noting is that in the script, the construction of the matrix was moved out of the loop where the position and rotation data come in, as a way to optimize the computation time. "
   ]
  },
  {
   "cell_type": "markdown",
   "metadata": {},
   "source": [
    "3. Decouple Inverse Kinematics problem into Inverse Position Kinematics and inverse Orientation Kinematics; doing so derive the equations to calculate all individual joint angles."
   ]
  },
  {
   "cell_type": "markdown",
   "metadata": {},
   "source": [
    "As we were taught in the lesson, the first angle can be computed directly from the position data of the wrist center:"
   ]
  },
  {
   "cell_type": "code",
   "execution_count": null,
   "metadata": {
    "collapsed": true
   },
   "outputs": [],
   "source": [
    "theta1 = atan2(WC[1], WC[0])"
   ]
  },
  {
   "cell_type": "markdown",
   "metadata": {},
   "source": [
    "And the position of the wrist center can be derived as shown in the lesson. What's more tricky is theta 2 and theta 3. The picture shown in the lesson was very misleading by align the axis of both theta 2 and theta 3, and I was confused since in this case, theta 2 and theta 3 would always be the same degree. "
   ]
  },
  {
   "cell_type": "markdown",
   "metadata": {},
   "source": [
    "![011](imgs/011.png)"
   ]
  },
  {
   "cell_type": "markdown",
   "metadata": {},
   "source": [
    "I spent a considerable time trying to make it work under the false assumption that these two angles were equal, until my logic convinced me that this is impossible and had me consulted one of the experts. "
   ]
  },
  {
   "cell_type": "markdown",
   "metadata": {},
   "source": [
    "It turns out, for theta 2, things are much easier if you turn your view angel from top down, not side ways in the X-Z panel, but rather in the X-Y panel. That means the following drawing, instead of the above one, should be the correct one to start with."
   ]
  },
  {
   "cell_type": "markdown",
   "metadata": {},
   "source": [
    "![012](imgs/012.jpg)"
   ]
  },
  {
   "cell_type": "markdown",
   "metadata": {},
   "source": [
    "In the drawing, the key point is to realize that the side B can be computed by the position data of wrist center and the DH parameters. Once this clicked, everything else follows naturally, as well as the computation for theta 3."
   ]
  },
  {
   "cell_type": "markdown",
   "metadata": {},
   "source": [
    "The computation for theta 4, theta 5 and theta 6 follows the instruction from lesson 2-8, assuming that you perform a extrinsic rotation in the sequence of x-y-z.   "
   ]
  },
  {
   "cell_type": "code",
   "execution_count": null,
   "metadata": {
    "collapsed": true
   },
   "outputs": [],
   "source": [
    "# Quiz code from lesson 2-8\n",
    "# define r11, r12, r13\n",
    "r11 = R_XYZ.row(0)[0]\n",
    "r12 = R_XYZ.row(0)[1]\n",
    "r13 = R_XYZ.row(0)[2]\n",
    "\n",
    "# define r21, r22, r23\n",
    "r21 = R_XYZ.row(1)[0]\n",
    "r22 = R_XYZ.row(1)[1]\n",
    "r23 = R_XYZ.row(1)[2]\n",
    "\n",
    "# define r31, r32, r33\n",
    "r31 = R_XYZ.row(2)[0]\n",
    "r32 = R_XYZ.row(2)[1]\n",
    "r33 = R_XYZ.row(2)[2]\n",
    "\n",
    "# Conversion Factors\n",
    "rtd = 180./np.pi # radians to degrees\n",
    "dtr = np.pi/180. # degrees to radians\n",
    "\n",
    "######## TO DO ##########\n",
    "# Calculate the Euler angles that produces a rotation equivalent to R (above)\n",
    "# NOTE: Be sure your answer has units of DEGREES!\n",
    "alpha = atan2(r21, r11) * rtd # rotation about Z-axis\n",
    "beta  = atan2(-r31, sqrt(r11*r11 + r21*r21)) * rtd # rotation about Y-axis\n",
    "gamma = atan2(r32, r33) * rtd # rotation about X-axis\n"
   ]
  },
  {
   "cell_type": "markdown",
   "metadata": {},
   "source": [
    "During test, I found that the angles derived from this code is not always optimal, so I changed the way to extract the angles."
   ]
  },
  {
   "cell_type": "markdown",
   "metadata": {},
   "source": [
    "### Project Implementation"
   ]
  },
  {
   "cell_type": "markdown",
   "metadata": {},
   "source": [
    "1. Fill in the IK_server.py file with properly commented python code for calculating Inverse Kinematics based on previously performed Kinematic Analysis. Your code must guide the robot to successfully complete 8/10 pick and place cycles. Briefly discuss the code you implemented and your results."
   ]
  },
  {
   "cell_type": "markdown",
   "metadata": {},
   "source": [
    "I have already explained the most important parts of the code above. Here I want to address some other aspects of this project."
   ]
  },
  {
   "cell_type": "markdown",
   "metadata": {},
   "source": [
    "#### Problems"
   ]
  },
  {
   "cell_type": "markdown",
   "metadata": {},
   "source": [
    "   1. Failed to start the demo.\n",
    "   I encountered this problem after I have played the demo successfully the first time. As shown in the following screenshots, the system always complains about some invalid launch file or failing to start some local process. \n",
    "   It turns out, that I was using an outdated version of the virtual machine. This problem was gone after I re-downloaded the image and started fresh in V2.1.0.\n",
    "   \n",
    "   2. Failed to call service calculate_ik.\n",
    "   I encountered this problem after I have completed my IK_server.py code and was ready to test it. The arm will always move randomly and then I noticed this error in the terminal. \n",
    "   The reason, as simple as it was, was that I didn't start the IK server. Everything starts to work after the service was started.\n",
    "   \n",
    "   3. Very slow computation\n",
    "   For the first several tests, the calculation inverse kinematics takes forever. A closer examination to the code reveals that, it spent too much time constructing the transform matrix and simplify them. I tried my best to move the constructions outside of the loop, only sub values in inside it. This has increased the speed greatly, but not enough. For a normal pick and place, the inverse kinematics step still take about 10~30 seconds to complete.  \n",
    "   \n",
    "   4. The holy Next and the forbidden Continue\n",
    "   When I was testing the arm, I was using the Continue button at first. I never realized that this would actually create a problem. The arm will go to the planned destination and reach the object, close the gripper, but never actually grab it. Then it will act as if it has reached the dropbox and release the object right at the same spot. \n",
    "   I spent way too much time trying to figure out what caused this. After making sure that my code is logically sound, I loaded the demo, and found out in shock that the test demo does exactly the same thing. It was until then that I realized there might be something else besides my code that's causing this problem. \n",
    "   During a session with the expert, I was told that I should never use the Continue button, only the Next. After I switch to use Next button exclusively, this problem was gone immediately. "
   ]
  },
  {
   "cell_type": "markdown",
   "metadata": {},
   "source": [
    "![013](imgs/013.png)"
   ]
  },
  {
   "cell_type": "markdown",
   "metadata": {},
   "source": [
    "![014](imgs/014.png)"
   ]
  },
  {
   "cell_type": "markdown",
   "metadata": {},
   "source": [
    "![015](imgs/015.png)"
   ]
  },
  {
   "cell_type": "markdown",
   "metadata": {},
   "source": [
    "![016](imgs/016.png)"
   ]
  },
  {
   "cell_type": "markdown",
   "metadata": {},
   "source": [
    "#### Improvements"
   ]
  },
  {
   "cell_type": "markdown",
   "metadata": {},
   "source": [
    "   1. Speed up the computation\n",
    "   \n",
    "   As I mentioned above, I have tried my best to boost the computation speed, including the code optimization and also allocating more resources for the virtual machine. But more advanced algorithms and data structures, like class and pre constructed matrix, could have better effects on the calculation.\n",
    "   \n",
    "   2. Smoothier movement\n",
    "   Currently, the arm moves in a rough point-to-point process. A better algorithm should produce a much smoothier curve for the movement.\n",
    "   \n",
    "   3. Real isolation of the position and rotation for the end effector\n",
    "   In current setup of the arm, all the angles for the 6 joints are output to the simulator all the time, which make the last 3 joints moves, in a seemingly random way, all the time. An optimized sequence should be: the first 3 joints will move first, moving the wrist center to its final destination; then the last 3 joints will rotate so that the end effector is at its rightful place. "
   ]
  }
 ],
 "metadata": {
  "kernelspec": {
   "display_name": "Python 3",
   "language": "python",
   "name": "python3"
  },
  "language_info": {
   "codemirror_mode": {
    "name": "ipython",
    "version": 3
   },
   "file_extension": ".py",
   "mimetype": "text/x-python",
   "name": "python",
   "nbconvert_exporter": "python",
   "pygments_lexer": "ipython3",
   "version": "3.6.1"
  }
 },
 "nbformat": 4,
 "nbformat_minor": 2
}
